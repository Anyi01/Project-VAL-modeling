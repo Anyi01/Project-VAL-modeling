{
 "cells": [
  {
   "cell_type": "code",
   "execution_count": null,
   "metadata": {},
   "outputs": [],
   "source": [
    "import numpy as np\n",
    "import matplotlib.pyplot as plt\n",
    "\n",
    "# Parameters for the simulation (aligned with observed trends in fatigue data)\n",
    "tau_f_prime = 1390  # Shear fatigue strength coefficient (τ'_f) in MPa\n",
    "gamma_f_prime = 0.40  # Shear fatigue ductility coefficient (γ'_f)\n",
    "b_0 = -0.055  # Adjusted Shear fatigue strength exponent (for decaying trend)\n",
    "c_0 = -0.45  # Adjusted Shear fatigue ductility exponent (for decaying trend)\n",
    "G = 45.7e3  # Shear modulus in MPa\n",
    "sigma_n_max = 200  # Maximum normal stress in MPa\n",
    "sigma_y = 526  # Yield strength in MPa\n",
    "k = 1.5  # Material-dependent parameter for FS\n",
    "\n",
    "# Generate simulated reversals to failure (log-distribution to simulate realistic fatigue life data)\n",
    "Nf = np.logspace(3, 7, num=100)  # Simulating between 10^3 and 10^7 reversals to failure\n",
    "\n",
    "# Simulating defect distribution (random voids, etc.)\n",
    "defect_factor = np.random.uniform(0.95, 1.05, size=Nf.shape)  # Random defect multiplier (small variation)\n",
    "\n",
    "# FS parameter calculation function (elastic + plastic strain components)\n",
    "def fs_parameter_simulation(N, tau_f_prime, G, gamma_f_prime, b_0, c_0, sigma_n_max, sigma_y, k, defect_factor):\n",
    "    elastic_term = (tau_f_prime / G) * (2 * N) ** b_0\n",
    "    plastic_term = gamma_f_prime * (2 * N) ** c_0\n",
    "    fs_value = (elastic_term + plastic_term) * (1 + k * sigma_n_max / sigma_y) * defect_factor\n",
    "    return fs_value\n",
    "\n",
    "# Calculate the simulated FS parameters\n",
    "fs_parameters_simulated = fs_parameter_simulation(Nf, tau_f_prime, G, gamma_f_prime, b_0, c_0, sigma_n_max, sigma_y, k, defect_factor)\n",
    "\n",
    "# Plot the simulated FS parameters vs. reversals to failure (2N_f)\n",
    "plt.figure(figsize=(8, 6))\n",
    "plt.loglog(2 * Nf, fs_parameters_simulated, 'bo', alpha=0.5, label='Simulated FS Data')\n",
    "\n",
    "# Add labels and title\n",
    "plt.title('Simulated FS Damage Parameter vs. Reversals to Failure', fontsize=14)\n",
    "plt.xlabel('Reversals to Failure (2N_f)', fontsize=12)\n",
    "plt.ylabel('FS Damage Parameter', fontsize=12)\n",
    "plt.grid(True, which=\"both\", ls=\"--\", lw=0.5)\n",
    "plt.legend()\n",
    "plt.tight_layout()\n",
    "\n",
    "# Show plot\n",
    "plt.show()\n"
   ]
  }
 ],
 "metadata": {
  "kernelspec": {
   "display_name": "pythonProject",
   "language": "python",
   "name": "python3"
  },
  "language_info": {
   "name": "python",
   "version": "3.11.5"
  }
 },
 "nbformat": 4,
 "nbformat_minor": 2
}
